{
  "cells": [
    {
      "cell_type": "code",
      "source": [],
      "metadata": {
        "id": "0fy0DBJ6vBtK"
      },
      "id": "0fy0DBJ6vBtK",
      "execution_count": null,
      "outputs": []
    }
  ],
  "metadata": {
    "kernelspec": {
      "display_name": "Python 3",
      "name": "python3"
    },
    "language_info": {
      "name": "python"
    },
    "required_libs": [],
    "colab": {
      "provenance": []
    }
  },
  "nbformat": 4,
  "nbformat_minor": 5
}