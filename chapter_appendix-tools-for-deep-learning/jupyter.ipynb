{
  "cells": [
    {
      "cell_type": "code",
      "source": [
        "pip install --upgrade kiteconnect"
      ],
      "metadata": {
        "colab": {
          "base_uri": "https://localhost:8080/"
        },
        "collapsed": true,
        "id": "0fy0DBJ6vBtK",
        "outputId": "75252cfd-1cf4-4510-fff3-247279d3535a"
      },
      "id": "0fy0DBJ6vBtK",
      "execution_count": 4,
      "outputs": [
        {
          "output_type": "stream",
          "name": "stdout",
          "text": [
            "Requirement already satisfied: kiteconnect in /usr/local/lib/python3.11/dist-packages (5.0.1)\n",
            "Requirement already satisfied: service-identity>=18.1.0 in /usr/local/lib/python3.11/dist-packages (from kiteconnect) (24.2.0)\n",
            "Requirement already satisfied: requests>=2.18.4 in /usr/local/lib/python3.11/dist-packages (from kiteconnect) (2.32.3)\n",
            "Requirement already satisfied: six>=1.11.0 in /usr/local/lib/python3.11/dist-packages (from kiteconnect) (1.17.0)\n",
            "Requirement already satisfied: pyOpenSSL>=17.5.0 in /usr/local/lib/python3.11/dist-packages (from kiteconnect) (24.2.1)\n",
            "Requirement already satisfied: python-dateutil>=2.6.1 in /usr/local/lib/python3.11/dist-packages (from kiteconnect) (2.9.0.post0)\n",
            "Requirement already satisfied: autobahn==19.11.2 in /usr/local/lib/python3.11/dist-packages (from autobahn[twisted]==19.11.2->kiteconnect) (19.11.2)\n",
            "Requirement already satisfied: txaio>=18.8.1 in /usr/local/lib/python3.11/dist-packages (from autobahn==19.11.2->autobahn[twisted]==19.11.2->kiteconnect) (25.6.1)\n",
            "Requirement already satisfied: cryptography>=2.7 in /usr/local/lib/python3.11/dist-packages (from autobahn==19.11.2->autobahn[twisted]==19.11.2->kiteconnect) (43.0.3)\n",
            "Requirement already satisfied: zope.interface>=3.6.0 in /usr/local/lib/python3.11/dist-packages (from autobahn[twisted]==19.11.2->kiteconnect) (7.2)\n",
            "Requirement already satisfied: Twisted>=12.1.0 in /usr/local/lib/python3.11/dist-packages (from autobahn[twisted]==19.11.2->kiteconnect) (25.5.0)\n",
            "Requirement already satisfied: charset-normalizer<4,>=2 in /usr/local/lib/python3.11/dist-packages (from requests>=2.18.4->kiteconnect) (3.4.2)\n",
            "Requirement already satisfied: idna<4,>=2.5 in /usr/local/lib/python3.11/dist-packages (from requests>=2.18.4->kiteconnect) (3.10)\n",
            "Requirement already satisfied: urllib3<3,>=1.21.1 in /usr/local/lib/python3.11/dist-packages (from requests>=2.18.4->kiteconnect) (2.4.0)\n",
            "Requirement already satisfied: certifi>=2017.4.17 in /usr/local/lib/python3.11/dist-packages (from requests>=2.18.4->kiteconnect) (2025.6.15)\n",
            "Requirement already satisfied: attrs>=19.1.0 in /usr/local/lib/python3.11/dist-packages (from service-identity>=18.1.0->kiteconnect) (25.3.0)\n",
            "Requirement already satisfied: pyasn1 in /usr/local/lib/python3.11/dist-packages (from service-identity>=18.1.0->kiteconnect) (0.6.1)\n",
            "Requirement already satisfied: pyasn1-modules in /usr/local/lib/python3.11/dist-packages (from service-identity>=18.1.0->kiteconnect) (0.4.2)\n",
            "Requirement already satisfied: cffi>=1.12 in /usr/local/lib/python3.11/dist-packages (from cryptography>=2.7->autobahn==19.11.2->autobahn[twisted]==19.11.2->kiteconnect) (1.17.1)\n",
            "Requirement already satisfied: automat>=24.8.0 in /usr/local/lib/python3.11/dist-packages (from Twisted>=12.1.0->autobahn[twisted]==19.11.2->kiteconnect) (25.4.16)\n",
            "Requirement already satisfied: constantly>=15.1 in /usr/local/lib/python3.11/dist-packages (from Twisted>=12.1.0->autobahn[twisted]==19.11.2->kiteconnect) (23.10.4)\n",
            "Requirement already satisfied: hyperlink>=17.1.1 in /usr/local/lib/python3.11/dist-packages (from Twisted>=12.1.0->autobahn[twisted]==19.11.2->kiteconnect) (21.0.0)\n",
            "Requirement already satisfied: incremental>=24.7.0 in /usr/local/lib/python3.11/dist-packages (from Twisted>=12.1.0->autobahn[twisted]==19.11.2->kiteconnect) (24.7.2)\n",
            "Requirement already satisfied: typing-extensions>=4.2.0 in /usr/local/lib/python3.11/dist-packages (from Twisted>=12.1.0->autobahn[twisted]==19.11.2->kiteconnect) (4.14.0)\n",
            "Requirement already satisfied: setuptools in /usr/local/lib/python3.11/dist-packages (from zope.interface>=3.6.0->autobahn[twisted]==19.11.2->kiteconnect) (75.2.0)\n",
            "Requirement already satisfied: pycparser in /usr/local/lib/python3.11/dist-packages (from cffi>=1.12->cryptography>=2.7->autobahn==19.11.2->autobahn[twisted]==19.11.2->kiteconnect) (2.22)\n"
          ]
        }
      ]
    }
  ],
  "metadata": {
    "kernelspec": {
      "display_name": "Python 3",
      "name": "python3"
    },
    "language_info": {
      "name": "python"
    },
    "required_libs": [],
    "colab": {
      "provenance": []
    }
  },
  "nbformat": 4,
  "nbformat_minor": 5
}